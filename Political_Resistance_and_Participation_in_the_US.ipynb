{
  "cells": [
    {
      "cell_type": "code",
      "execution_count": null,
      "metadata": {
        "id": "2EvUcUf19vv3"
      },
      "outputs": [],
      "source": [
        "# # if you do not have the folder to begin with:\n",
        "# from google.colab import drive\n",
        "# drive.mount('/content/drive')\n",
        "# %cd content/drive/MyDrive\n",
        "# !git clone https://github.com/MadBeignet/MadBeignet.github.io"
      ]
    },
    {
      "cell_type": "code",
      "execution_count": null,
      "metadata": {
        "colab": {
          "base_uri": "https://localhost:8080/"
        },
        "id": "qBdCfIGwDi6_",
        "outputId": "1fe46762-01cc-4f9a-ade4-fb6d7601ea89"
      },
      "outputs": [],
      "source": [
        "#%cd../../../"
      ]
    },
    {
      "cell_type": "code",
      "execution_count": null,
      "metadata": {
        "colab": {
          "base_uri": "https://localhost:8080/"
        },
        "id": "7Zq1aEblvvlX",
        "outputId": "83478412-4388-4401-f0a6-ed3d56eaea7e"
      },
      "outputs": [],
      "source": [
        "# # first, mount your google drive, change to the course folder, pull latest changes, and change to the lab folder.\n",
        "# from google.colab import drive\n",
        "# drive.mount('/content/drive',force_remount=True)\n",
        "# %cd content/MadBeignet.github.io\n",
        "# !git pull\n",
        "# %cd Data"
      ]
    },
    {
      "cell_type": "code",
      "execution_count": null,
      "metadata": {},
      "outputs": [],
      "source": [
        "%cd './Data'"
      ]
    },
    {
      "cell_type": "code",
      "execution_count": null,
      "metadata": {
        "id": "rnGWU2vkBBF1"
      },
      "outputs": [],
      "source": [
        "# imports\n",
        "import pandas as pd"
      ]
    },
    {
      "cell_type": "markdown",
      "metadata": {
        "id": "fV1aiNAewyWU"
      },
      "source": [
        "Team: Merrilee Montgomery and Maddie Wisinski\n"
      ]
    },
    {
      "cell_type": "markdown",
      "metadata": {
        "id": "QSJx_6RAxn5s"
      },
      "source": [
        "Website Link: https://madbeignet.github.io/"
      ]
    },
    {
      "cell_type": "markdown",
      "metadata": {
        "id": "teyMSPGJwyKN"
      },
      "source": [
        "<h1>Project Goals</h1>\n",
        "<p>The team will be looking at the relationship between political participation and political resistance in the United States from 2000-2021 by state.</p> <p>To measure political participation, the team will use voter turnout statistics by state from collected by the Election Project. The election project website derives all its data from individual state websites.</p><p>This project will distinguish between violent and nonviolent political resistance. To measure nonviolent political resistance, this group will use protest frequency and size from Count Love, a group from MIT that began tracking protests amidst the 2017 Women's March. To study violent political resistance, this project will use Profiles of Individual Radicalization in the US (PIRUS) from University of Maryland National Consortium for the Study of Terrorism and Responses to Terrorism (START). The PIRUS Dataset contains informaiton about individuals who's radicalization became apparent through their plotting to engage in violent activity.</p>\n",
        "\n",
        "Election Project: https://www.electproject.org/home\n",
        "\n",
        "Count Love: https://countlove.org/faq.html\n",
        "\n",
        "PIRUS: https://www.start.umd.edu/data-tools/profiles-individual-radicalization-united-states-pirus\n"
      ]
    },
    {
      "cell_type": "markdown",
      "metadata": {
        "id": "NZJB6MYAzo4D"
      },
      "source": [
        "<h1>Voter Turnout: 2000-2022</h1>"
      ]
    },
    {
      "cell_type": "markdown",
      "metadata": {
        "id": "32FBdIrd6FP0"
      },
      "source": [
        "<h2>Cleaning the Data</h2><p>The Election Project collects voter turnout data for the general election that occur every two comes in separate CSVs by year. Here we want to read all by-year files into a single DataFrame. To do so, we must account for the following:</p> \n",
        "\n",
        "1.   Years 2000-2010 are in a uniform format, but missing state abbreviation.\n",
        "2.   Years 2012-2020 have an extra column of state abreviation that can be used to create a index value consisting of Year and State Abbreviation.\n",
        "3.   Years 2016-2020 have notes at the end of each csv that must be deleted."
      ]
    },
    {
      "cell_type": "markdown",
      "metadata": {
        "id": "K5eLI_Zptcdf"
      },
      "source": [
        "<h4>Step 1: Concatenate years 2000-2010</h4>"
      ]
    },
    {
      "cell_type": "code",
      "execution_count": null,
      "metadata": {
        "colab": {
          "base_uri": "https://localhost:8080/",
          "height": 555
        },
        "id": "jRXeQ6bvWmj7",
        "outputId": "eabf228e-56d5-4655-eea1-bc07d2a54de2"
      },
      "outputs": [],
      "source": [
        "csv_final = pd.read_csv(\"./Voter_Turnouts/2000 November General Election - Turnout Rates.csv\",\n",
        "                        header = None,\n",
        "                        skiprows = 2)#first two rows is header in CSV\n",
        "csv_final['Year']=2000\n",
        "\n",
        "l = []#we will use this to make sure all files loaded\n",
        "for a in range (2002,2012,2):\n",
        "  csv_temp = pd.read_csv(\"./Voter_Turnouts/\"+str(a)+\" November General Election - Turnout Rates.csv\",\n",
        "                         header = None,\n",
        "                         skiprows = 2)#first two rows are headers in csv\n",
        "  csv_temp['Year']=a#As year is incremented,value changes\n",
        "  l.append(1)\n",
        "  csv_final = pd.concat([csv_final,csv_temp],ignore_index = True)\n",
        "final_df = pd.DataFrame(csv_final)\n",
        "print(len(l) == 5)#Test to make sure all files were uploaded, returns true if successful, false else\n",
        "final_df.columns = ['Region', 'VEP Total Ballots Counted', 'VEP Highest Office', 'VAP Highest Office', 'Total Ballots Counted', 'Highest Office', 'Voting-Eligible Population (VEP)', 'Voting-Age Population (VAP)', '% Non-citizen', 'Prison', 'Probation', 'Parole', 'Total Ineligible Felon', 'Overseas Eligible', 'Year']\n",
        "#Rename all columns\n",
        "\n",
        "final_df"
      ]
    },
    {
      "cell_type": "markdown",
      "metadata": {
        "id": "3s1H0jE2RAw5"
      },
      "source": [
        "<h4>Step 2: Drop State Abbreviations and Excess Rows</h4>\n"
      ]
    },
    {
      "cell_type": "markdown",
      "metadata": {
        "id": "czZuFWxqR4PB"
      },
      "source": [
        "<p>To concatenate Voter Turnout from years 2012-2022, we have to remove the abbreviation column and any excess rows (which are usually methodology notes.)</p>"
      ]
    },
    {
      "cell_type": "code",
      "execution_count": null,
      "metadata": {
        "colab": {
          "base_uri": "https://localhost:8080/",
          "height": 537
        },
        "id": "nBmiwSHiX8tW",
        "outputId": "6a07311f-9b25-401c-9eda-5c02578c86e9"
      },
      "outputs": [],
      "source": [
        "l = []#we will use this to make sure all files loaded\n",
        "for a in range (2012,2016,2):\n",
        "  csv_temp = pd.read_csv(\"./Voter_Turnouts/\"+str(a)+\" November General Election - Turnout Rates.csv\",\n",
        "                         header = None,\n",
        "                         skiprows = 2,\n",
        "                         names = ['Region', 'VEP Total Ballots Counted', 'VEP Highest Office', 'VAP Highest Office', 'Total Ballots Counted', 'Highest Office', 'Voting-Eligible Population (VEP)', 'Voting-Age Population (VAP)', '% Non-citizen', 'Prison', 'Probation', 'Parole', 'Total Ineligible Felon', 'Overseas Eligible', 'State Abv'])#first two rows are headers in csv\n",
        "  csv_temp['Year']=a#As year is incremented,value changes\n",
        "  csv_temp = csv_temp.iloc[:52]\n",
        "  csv_temp.drop('State Abv',inplace=True,axis=1)\n",
        "  csv_final = pd.concat([csv_final,csv_temp],ignore_index=True)#not sure whats going wrong now, I'll ask Dr. Culotta\n",
        "\n",
        "csv_final"
      ]
    },
    {
      "cell_type": "markdown",
      "metadata": {
        "id": "g0rQqF8CATSY"
      },
      "source": [
        "<p>After 2014, Voter Turnout Data Column names and values vary more. As a result, we must clean each individual dataset to concatenate</p>\n",
        "<p></p>\n",
        "<h4>2018</h4>"
      ]
    },
    {
      "cell_type": "code",
      "execution_count": null,
      "metadata": {
        "colab": {
          "base_uri": "https://localhost:8080/",
          "height": 537
        },
        "id": "y8pP_w3c6nDx",
        "outputId": "ec9b6894-4248-4abe-c76a-86fb8e0f622e"
      },
      "outputs": [],
      "source": [
        "temp_18 = pd.read_csv(\"./Voter_Turnouts/2018 November General Election - Turnout Rates.csv\",\n",
        "                      names =['Region', 'Estimated or Actual 2018 Total Ballots Counted VEP Turnout Rate', '2018 Vote for Highest Office VEP Turnout Rate', 'Status', 'Source', 'Estimated or Actual 2018 Total Ballots Counted', '2018 Vote for Highest Office', 'Voting-Eligible Population (VEP)', 'Voting-Age Population (VAP)', '% Non-citizen', 'Prison', 'Probation', 'Parole', 'Total Ineligible Felon', 'Overseas Eligible', 'State Abv'],\n",
        "                      skiprows=2,\n",
        "                      header = None)\n",
        "temp_18.drop('Source',inplace=True,axis=1)\n",
        "temp_18.drop('Status',inplace=True,axis=1)\n",
        "temp_18.drop('State Abv',inplace=True,axis=1)\n",
        "csv_final.drop('VAP Highest Office',inplace=True,axis=1)\n",
        "csv_final.columns\n",
        "temp_18.columns = ['Region', 'VEP Total Ballots Counted', 'VEP Highest Office',\n",
        "       'Total Ballots Counted', 'Highest Office',\n",
        "       'Voting-Eligible Population (VEP)', 'Voting-Age Population (VAP)',\n",
        "       '% Non-citizen', 'Prison', 'Probation', 'Parole',\n",
        "       'Total Ineligible Felon', 'Overseas Eligible']\n",
        "temp_18['Year']=2018\n",
        "temp_18 = temp_18.iloc[:52]\n",
        "csv_final = pd.concat([csv_final,temp_18],ignore_index = True)\n",
        "csv_final\n"
      ]
    },
    {
      "cell_type": "code",
      "execution_count": null,
      "metadata": {
        "colab": {
          "base_uri": "https://localhost:8080/"
        },
        "id": "KJWOzKIjBBot",
        "outputId": "12b1aba7-6c94-473f-da21-c625701f6440"
      },
      "outputs": [],
      "source": [
        "l = 'Region,Source,Status,Total Ballots Counted (Estimate),Vote for Highest Office (President),VEP Turnout Rate (Total Ballots Counted),VEP Turnout Rate (Highest Office),Voting-Eligible Population (VEP),Voting-Age Population (VAP),% Non-citizen,Prison,Probation,Parole,Total Ineligible Felon,Overseas Eligible,State Abv'\n",
        "lis = l.split(',')\n",
        "print(lis)\n"
      ]
    },
    {
      "cell_type": "markdown",
      "metadata": {
        "id": "HzsVp3jsAyXe"
      },
      "source": [
        "<h4>2016</h4>"
      ]
    },
    {
      "cell_type": "code",
      "execution_count": null,
      "metadata": {
        "colab": {
          "base_uri": "https://localhost:8080/",
          "height": 537
        },
        "id": "YhtjMOIDAO9M",
        "outputId": "17c4f673-c086-44fc-a427-7ef4ddba2361"
      },
      "outputs": [],
      "source": [
        "temp_16 = pd.read_csv(\"./Voter_Turnouts/2016 November General Election - Turnout Rates.csv\",\n",
        "                      names =['Region', 'State Results Website', 'Status', 'VEP Total Ballots Counted', 'VEP Highest Office', 'VAP Highest Office', 'Total Ballots Counted (Estimate)', 'Highest Office', 'Voting-Eligible Population (VEP)', 'Voting-Age Population (VAP)', '% Non-citizen', 'Prison', 'Probation', 'Parole', 'Total Ineligible Felon', 'Overseas Eligible', 'State Abv'],\n",
        "                      skiprows=2,\n",
        "                      header = None)\n",
        "temp_16.drop('Status',inplace=True,axis=1)\n",
        "temp_16.drop('State Results Website',inplace=True,axis=1)\n",
        "temp_16.drop('State Abv',inplace=True,axis=1)\n",
        "temp_16.drop('VAP Highest Office',inplace=True,axis=1)\n",
        "temp_16['Year']=2016\n",
        "temp_16.columns = csv_final.columns\n",
        "temp_16 = temp_16.iloc[:52]\n",
        "csv_final = pd.concat([csv_final,temp_18],ignore_index = True)\n",
        "csv_final\n"
      ]
    },
    {
      "cell_type": "markdown",
      "metadata": {
        "id": "fEc8WAK-IiSg"
      },
      "source": [
        "<h4>2020</h4>"
      ]
    },
    {
      "cell_type": "code",
      "execution_count": null,
      "metadata": {
        "colab": {
          "base_uri": "https://localhost:8080/",
          "height": 537
        },
        "id": "u0En42BcBVsq",
        "outputId": "642ad02b-6175-4239-ad88-871afb4b4ae6"
      },
      "outputs": [],
      "source": [
        "temp_20 = pd.read_csv(\"./Voter_Turnouts/2020 November General Election - Turnout Rates.csv\",\n",
        "                      names =['Region', 'Source', 'Status', 'Total Ballots Counted (Estimate)', 'Vote for Highest Office (President)', 'VEP Turnout Rate (Total Ballots Counted)', 'VEP Turnout Rate (Highest Office)', 'Voting-Eligible Population (VEP)', 'Voting-Age Population (VAP)', '% Non-citizen', 'Prison', 'Probation', 'Parole', 'Total Ineligible Felon', 'Overseas Eligible', 'State Abv'],\n",
        "                      skiprows=2,\n",
        "                      header = None)\n",
        "temp_20.drop('Source',inplace=True,axis=1)\n",
        "temp_20.drop('Status',inplace=True,axis=1)\n",
        "temp_20.drop('State Abv',inplace=True,axis=1)\n",
        "temp_20['Year'] = 2020\n",
        "temp_20.columns = csv_final.columns\n",
        "temp_20 = temp_20.iloc[:52]\n",
        "csv_final = pd.concat([csv_final,temp_18],ignore_index = True)\n",
        "csv_final"
      ]
    },
    {
      "cell_type": "markdown",
      "metadata": {
        "id": "eksfMwwqeps1"
      },
      "source": [
        "<h2>Radicalized Individuals in the United States</h2><p>This data set is collected on the individual level. Because we are examining trends on the state level, we will save this Data grouped to the individuals' origin states.</p>"
      ]
    },
    {
      "cell_type": "markdown",
      "metadata": {
        "id": "65QG-17ihU8Z"
      },
      "source": [
        "<h4>1. Loading the PIRUS Data</h4><p>The PIRUS data measures 145 categorical and quantitative variables that do not load nicely into COLAB. We have taken the first header line from the CSV an split it into a list that can be passed as column names for the CSV.</p>"
      ]
    },
    {
      "cell_type": "code",
      "execution_count": null,
      "metadata": {
        "colab": {
          "base_uri": "https://localhost:8080/"
        },
        "id": "xAjwA27NfRbh",
        "outputId": "909c8352-a214-4a26-c197-70fab668f416"
      },
      "outputs": [],
      "source": [
        "a = \"Subject_ID,Loc_Plot_State1,Loc_Plot_City1,Loc_Plot_State2,Loc_Plot_City2,Date_Exposure,Plot_Target1,Plot_Target2,Plot_Target3,Attack_Preparation,Op_Security,Changing_Target,Anticp_Fatals_Targ,Internet_Use_Plot,Extent_Plot,Violent,Criminal_Severity,Criminal_Charges,Indict_Arrest,Current_Status,Group_Membership,Terrorist_Group_Name1,Terrorist_Group_Name2,Terrorist_Group_Name3,Actively_Recruited,Recruiter1,Recruiter2,Recruiter3,Actively_Connect,Group_Competition,Role_Group,Length_Group,Clique,Clique_Radicalize,Clique_Connect,Internet_Radicalization,Media_Radicalization,Social_Media,Social_Media_Frequency,Social_Media_Platform1,Social_Media_Platform2,Social_Media_Platform3,Social_Media_Platform4,Social_Media_Platform5,Social_Media_Activities1,Social_Media_Activities2,Social_Media_Activities3,Social_Media_Activities4,Social_Media_Activities5,Social_Media_Activities6,Social_Media_Activities7,Radicalization_Islamist,Radicalization_Far_Right,Radicalization_Far_Left,Radicalization_Single_Issue,Ideological_Sub_Category1,Ideological_Sub_Category2,Ideological_Sub_Category3,Loc_Habitation_State1,Loc_Habitation_City1,Loc_Habitation_State2,Loc_Habitation_City2,Itinerant,External_Rad,Rad_duration,Radical_Behaviors,Radical_Beliefs,US_Govt_Leader,Foreign_Govt_Leader,Event_Influence1,Event_Influence2,Event_Influence3,Event_Influence4,Beliefs_Trajectory,Behaviors_Trajectory,Radicalization_Sequence,Radicalization_Place,Prison_Radicalize,Broad_Ethnicity,Age,Marital_Status,Children,Age_Child,Gender,Religious_Background,Convert,Convert_Date,Reawakening,Reawakening_Date,Citizenship,Residency_Status,Nativity,Time_US_Months,Immigrant_Generation,Immigrant_Source,Language_English,Diaspora_Ties,Education,Student,Education_Change,Employment_Status,Change_Performance,Work_History,Military,Foreign_Military,Social_Stratum_Childhood,Social_Stratum_Adulthood,Aspirations,Abuse_Child,Abuse_Adult,Abuse_type1,Abuse_Type2,Abuse_Type3,Psychological,Alcohol_Drug,Absent_Parent,Overseas_Family,Close_Family,Family_Religiosity,Family_Ideology,Family_Ideological_Level,Prison_Family_Friend,Crime_Family_Friend,Radical_Friend,Radical_Family,Radical_Signif_Other,Relationship_Troubles,Platonic_Troubles,Unstructured_Time,Friendship_Source1,Friendship_Source2,Friendship_Source3,Kicked_Out,Previous_Criminal_Activity,Previous_Criminal_Activity_Type1,Previous_Criminal_Activity_Type2,Previous_Criminal_Activity_Type3,Previous_Criminal_Activity_Age,Gang,Gang_Age_Joined,Trauma,Other_Ideologies,Angry_US,Group_Grievance,Standing\"\n",
        "def listify(mis_string):\n",
        "  return mis_string.split(\",\")\n",
        "pirus_headlist = listify(a)\n",
        "print(pirus_headlist)"
      ]
    },
    {
      "cell_type": "code",
      "execution_count": null,
      "metadata": {
        "colab": {
          "base_uri": "https://localhost:8080/",
          "height": 488
        },
        "id": "Y3cxapS-hBFZ",
        "outputId": "1fa0974a-1d34-4ec5-900c-d644329171a6"
      },
      "outputs": [],
      "source": [
        "pirus_temp = pd.read_csv(\"./PIRUS_May2020/PIRUS_Public_May2020.csv\",\n",
        "                         header=1,\n",
        "                         names = pirus_headlist)\n",
        "pirus_temp"
      ]
    },
    {
      "cell_type": "markdown",
      "metadata": {
        "id": "A0LVTGOVifd3"
      },
      "source": [
        "<h4>2. Filtering and Grouping By States</h2><p> We will only examine radicalized individual since 2000 due to the fact that voter data comes from the 2000-2020 years, and protest data comes from the 2017-2021 years. (This data starts in 1948 and goes through 2018.)\n",
        "\n",
        "We will also use value_counts to determine the different states that from which the radicalized individual originate from. We are assuming that this is also the state in which the individual is mostly likely to engage in popular protest and vote.</p>"
      ]
    },
    {
      "cell_type": "code",
      "execution_count": null,
      "metadata": {
        "colab": {
          "base_uri": "https://localhost:8080/",
          "height": 713
        },
        "id": "rwqzY1D-jes_",
        "outputId": "0fc96863-fd33-419b-e425-7281bc1ec33b"
      },
      "outputs": [],
      "source": [
        "#Date_Exposure is not comparable because it is of dtype string.\n",
        "#Create column 'Year' of int values that represents the last 2 digit of the year.\n",
        "l = []\n",
        "for val in pirus_temp['Date_Exposure']:\n",
        "  a = val.split('/')\n",
        "  b = a[-1:]\n",
        "  l.append(int(b[0]))\n",
        "pirus_temp['Year'] = l\n",
        "#Any row with 'Year' under 22 occured in the 2000's and is in the scope of this study\n",
        "pirus_temp = pirus_temp[pirus_temp['Year'] <= 22]\n",
        "#Group by state\n",
        "pirus_states_since_2000 = pirus_temp.value_counts('Loc_Habitation_State1')\n",
        "pirus_states_since_2000.plot(kind='bar', figsize=(20, 10))"
      ]
    },
    {
      "cell_type": "markdown",
      "metadata": {
        "id": "OuoyGEzJr2FS"
      },
      "source": [
        "<h2>Protests in the United States</h2><p>This data set is collected on the event level. Because we are examining trends on the state level, we will save this Data grouped to the protest event location. It is worth noting that popular protest often spreads. This data is harvested by webcrawling for news articles and similar media referencing the protest to a location. Therefore, protests that happened in wave, such as those in response to George Floyd's murder, will appearch multiple times. However, we will still count these as separate events, even if such events are comorbid.</p><p>Because this data set only covers 4 years, we do not have to filter it. We will only group it by state.</p>"
      ]
    },
    {
      "cell_type": "code",
      "execution_count": null,
      "metadata": {
        "colab": {
          "base_uri": "https://localhost:8080/",
          "height": 1000
        },
        "id": "D5Xsb3bGtcLa",
        "outputId": "0100adc4-fb85-4715-8f8d-49c24b222369"
      },
      "outputs": [],
      "source": [
        "protests_temp = pd.read_csv(\"./Protests/data.csv\",\n",
        "                         header = 1,\n",
        "                         names = ['Date','Location','Attendees',\n",
        "                         'Event (legacy; see tags)','Tags',\n",
        "                         'Curated','Source','Total_Articles'])\n",
        "protests_temp.head(20)"
      ]
    },
    {
      "cell_type": "code",
      "execution_count": null,
      "metadata": {
        "colab": {
          "base_uri": "https://localhost:8080/",
          "height": 506
        },
        "id": "VIXcC-G8ubPH",
        "outputId": "43ec5374-48a3-4d75-e073-2af8213ff617"
      },
      "outputs": [],
      "source": [
        "#Must create state attribute to groupby state, similar to extracting year, but first create dictionary matching statges to abbreviation.\n",
        "states = [\n",
        "\"Alabama\",\n",
        "\"Alaska\",\n",
        "\"Arizona\",\n",
        "\"Arkansas\",\n",
        "\"California\",\n",
        "\"Colorado\",\n",
        "\"Connecticut\",\n",
        "\"District of Columbia\",\n",
        "\"Delaware\",\n",
        "\"Florida\",\n",
        "\"Georgia\",\n",
        "\"Guam\",\n",
        "\"Hawaii\",\n",
        "\"Idaho\",\n",
        "\"Illinois\",\n",
        "\"Indiana\",\n",
        "\"Iowa\",\n",
        "\"Kansas\",\n",
        "\"Kentucky\",\n",
        "\"Louisiana\",\n",
        "\"Maine\",\n",
        "\"Maryland\",\n",
        "\"Massachusetts\",\n",
        "\"Michigan\",\n",
        "\"Minnesota\",\n",
        "\"Mississippi\",\n",
        "\"Missouri\",\n",
        "\"Montana\",\n",
        "\"Nebraska\",\n",
        "\"Nevada\",\n",
        "\"New Hampshire\",\n",
        "\"New Jersey\",\n",
        "\"New Mexico\",\n",
        "\"New York\",\n",
        "\"North Carolina\",\n",
        "\"North Dakota\",\n",
        "\"Ohio\",\n",
        "\"Oklahoma\",\n",
        "\"Oregon\",\n",
        "\"Pennsylvania\",\n",
        "\"Puerto Rico\",\n",
        "\"Rhode Island\",\n",
        "\"South Carolina\",\n",
        "\"South Dakota\",\n",
        "\"Tennessee\",\n",
        "\"Texas\",\n",
        "\"United States\",\n",
        "\"Utah\", \n",
        "\"Vermont\",\n",
        "\"Virginia\",\n",
        "\"Washington\",\n",
        "\"West Virginia\",\n",
        "\"Wisconsin\",\n",
        "\"Wyoming\"]\n",
        "abbrev = [\"AL\",\n",
        "\"AK\",\n",
        "\"AZ\",\n",
        "\"AR\",\n",
        "\"CA\",\n",
        "\"CO\",\n",
        "\"CT\",\n",
        "\"DC\",\n",
        "\"DE\",\n",
        "\"FL\",\n",
        "\"GA\",\n",
        "\"GU\",\n",
        "\"HI\",\n",
        "\"ID\",\n",
        "\"IL\",\n",
        "\"IN\",\n",
        "\"IA\",\n",
        "\"KS\",\n",
        "\"KY\",\n",
        "\"LA\",\n",
        "\"ME\",\n",
        "\"MD\",\n",
        "\"MA\",\n",
        "\"MI\",\n",
        "\"MN\",\n",
        "\"MS\",\n",
        "\"MO\",\n",
        "\"MT\",\n",
        "\"NE\",\n",
        "\"NV\",\n",
        "\"NH\",\n",
        "\"NJ\",\n",
        "\"NM\",\n",
        "\"NY\",\n",
        "\"NC\",\n",
        "\"ND\",\n",
        "\"OH\",\n",
        "\"OK\",\n",
        "\"OR\",\n",
        "\"PA\",\n",
        "\"PR\",\n",
        "\"RI\",\n",
        "\"SC\",\n",
        "\"SD\",\n",
        "\"TN\",\n",
        "\"TX\",\n",
        "\"US\",\n",
        "\"UT\",\n",
        "\"VT\",\n",
        "\"VA\",\n",
        "\"WA\",\n",
        "\"WV\",\n",
        "\"WI\",\n",
        "\"WY\"]\n",
        "states_dict = {}\n",
        "i = 0\n",
        "for name in abbrev:\n",
        "  states_dict[name] = states[i]\n",
        "  i += 1\n",
        "print(states_dict)\n",
        "#create list of state names\n",
        "protests_temp\n"
      ]
    },
    {
      "cell_type": "code",
      "execution_count": null,
      "metadata": {
        "colab": {
          "base_uri": "https://localhost:8080/",
          "height": 641
        },
        "id": "q_zIuhWeLb3x",
        "outputId": "dfce2367-ed41-411c-db70-6cc043bcc49e"
      },
      "outputs": [],
      "source": [
        "#Create a list that can be added as a column to the DataFrame, representing the locatiion the protest took place in.\n",
        "l = []\n",
        "for val in protests_temp['Location']:\n",
        "  m = val.split(',')\n",
        "  if len(m) >= 2:\n",
        "    n = m[-1][-2:]\n",
        "    state = states_dict[n.upper()]\n",
        "    l.append(state)\n",
        "  else: #accounting for abnormal cases. implementation based on printing individual cases\n",
        "    if m == 'La Porte County Courthouse in La Porte':\n",
        "      l.append('Indiana')\n",
        "    if m == 'Space':\n",
        "      l.append('New York')\n",
        "    if n == 'WA':\n",
        "      l.append('Washington')\n",
        "    if n == 'DE':\n",
        "      l.append('Delaware')\n",
        "protests_temp['State'] = l\n",
        "protests_temp"
      ]
    },
    {
      "cell_type": "code",
      "execution_count": null,
      "metadata": {
        "colab": {
          "base_uri": "https://localhost:8080/",
          "height": 881
        },
        "id": "ATm-CqSJVOro",
        "outputId": "3bfd3a9a-94e5-4491-c345-46b36aa239cb"
      },
      "outputs": [],
      "source": [
        "protests_by_state = protests_temp.value_counts('State')\n",
        "protests_by_state.plot.barh(figsize=(10,15))"
      ]
    },
    {
      "cell_type": "markdown",
      "metadata": {
        "id": "-X1nq8VK7kGY"
      },
      "source": [
        "<p>From this bar chart, we can see that California has the highest number of protests. California also had the highest number of radicalized individuals.</p>"
      ]
    },
    {
      "cell_type": "code",
      "execution_count": null,
      "metadata": {
        "colab": {
          "base_uri": "https://localhost:8080/"
        },
        "id": "CynSOcPXMdXw",
        "outputId": "84be3505-bec3-4ca2-f220-60d46d2e325a"
      },
      "outputs": [],
      "source": [
        "protests_by_state.mean()"
      ]
    },
    {
      "cell_type": "markdown",
      "metadata": {
        "id": "p_XtJlpDMinS"
      },
      "source": [
        "We can also see that the mean number of protests by state is 718. "
      ]
    },
    {
      "cell_type": "markdown",
      "metadata": {
        "id": "AXNB6YOcoGCU"
      },
      "source": [
        "<h1>Population Data</h1>\n",
        "Source: Census Bureau. \n",
        "Notes: The years 2020 and 2021 were in different files, so had to join them."
      ]
    },
    {
      "cell_type": "code",
      "execution_count": null,
      "metadata": {
        "colab": {
          "base_uri": "https://localhost:8080/",
          "height": 206
        },
        "id": "25_4viNDj-nV",
        "outputId": "76193c1b-446b-45d9-8951-f02a9b77b0a5"
      },
      "outputs": [],
      "source": [
        "pop20_21 = pd.read_csv('./Population/2020-2021 Census Bureau Population.csv')\n",
        "#Rename columns due to header reading error\n",
        "pop20_21.rename(columns={'Population Estimate\\n (as of July 1)':'2020','Unnamed: 3':'2021'},inplace=True)\n",
        "#Drop the first 6 rows becausethey are aggregates\n",
        "pop20_21 = pop20_21.iloc[6:]\n",
        "list1 = []\n",
        "for i in pop20_21['Geographic Area']:\n",
        "  i = i[1:]\n",
        "  list1.append(i)\n",
        "pop20_21['Geographic Area'] = list1\n",
        "pop20_21.head()"
      ]
    },
    {
      "cell_type": "code",
      "execution_count": null,
      "metadata": {
        "colab": {
          "base_uri": "https://localhost:8080/",
          "height": 206
        },
        "id": "D5n1_9o5mDKZ",
        "outputId": "6df8d1e8-0026-477b-8057-534e481aff76"
      },
      "outputs": [],
      "source": [
        "pop10_19 = pd.read_csv('./Population/nst-est2019-01.csv')\n",
        "#Rename columns due to header reading error\n",
        "pop10_19.rename(columns={'Population Estimate (as of July 1)':'2010','Unnamed: 2':'Estimates Base','Unnamed: 4':'2011','Unnamed: 5':'2012','Unnamed: 5':'2012','Unnamed: 6':'2013','Unnamed: 7':'2014','Unnamed: 8':'2015','Unnamed: 9':'2016','Unnamed: 10':'2017','Unnamed: 11':'2018','Unnamed: 12': '2019'},inplace=True)\n",
        "#Drop the first 6 rows becausethey are aggregates\n",
        "pop10_19 = pop10_19.iloc[6:]\n",
        "list1 = []\n",
        "for i in pop10_19['Geographic Area']:\n",
        "  i = i[1:]\n",
        "  list1.append(i)\n",
        "pop10_19['Geographic Area'] = list1\n",
        "pop10_19.head()"
      ]
    },
    {
      "cell_type": "code",
      "execution_count": null,
      "metadata": {
        "id": "6RO-6a4toDWn"
      },
      "outputs": [],
      "source": [
        "total_population = pop10_19\n",
        "total_population['2020'] = pop20_21['2020']\n",
        "total_population['2021'] = pop20_21['2021']\n",
        "total_population.drop(['April 1, 2010','Estimates Base'],inplace=True,axis=1)"
      ]
    },
    {
      "cell_type": "code",
      "execution_count": null,
      "metadata": {
        "colab": {
          "base_uri": "https://localhost:8080/"
        },
        "id": "8AVTBqaJKANj",
        "outputId": "13449450-74a0-4b0a-ce73-5ad81726a49c"
      },
      "outputs": [],
      "source": [
        "total_population.columns"
      ]
    },
    {
      "cell_type": "code",
      "execution_count": null,
      "metadata": {
        "id": "lRN0gjBHxHxq"
      },
      "outputs": [],
      "source": [
        "def fuck_around_and_find_out(row):\n",
        "  ret_val = pd.DataFrame()\n",
        "  ret_val['Population'] = list(row)[1:]\n",
        "  ret_val['Year'] = total_population.columns[1:]\n",
        "  return ret_val\n",
        "\n",
        "S_pop = {}\n",
        "for index, row in total_population.iterrows():\n",
        "  S_pop[list(row)[0]] = fuck_around_and_find_out(row)\n"
      ]
    },
    {
      "cell_type": "code",
      "execution_count": null,
      "metadata": {},
      "outputs": [],
      "source": [
        "ax=S_pop['Alabama'].plot(x='Year',y='Population')"
      ]
    },
    {
      "cell_type": "code",
      "execution_count": null,
      "metadata": {
        "colab": {
          "base_uri": "https://localhost:8080/",
          "height": 308
        },
        "id": "4KC7NeXaK-tL",
        "outputId": "ff981f2e-49a7-4df8-c96a-fbaa650bab26"
      },
      "outputs": [],
      "source": [
        "import matplotlib.pyplot as plt\n",
        "# for key in S_pop.keys():\n",
        "#   S_pop[key].plot(x='Year',y='Population')\n",
        "# # S_pop.plot(x='Year',y='Population')\n",
        "total_population.set_index('Geographic Area').transpose().plot(figsize=(10,15))\n",
        "plt.yscale(\"log\")\n",
        "plt.legend(bbox_to_anchor=(1., 1.0), fancybox=True, shadow=True, ncol=1)\n",
        "plt.xlabel(\"Years\")\n",
        "plt.ylabel(\"Population\")\n",
        "plt.title(\"Population Over Time For Each State\")\n",
        "plt.grid(linestyle=':')\n",
        "\n",
        "\n",
        "\n",
        "\n"
      ]
    },
    {
      "cell_type": "code",
      "execution_count": null,
      "metadata": {},
      "outputs": [],
      "source": [
        "pd.pivot_table(total_population, index='Geographic Area').head()"
      ]
    },
    {
      "cell_type": "markdown",
      "metadata": {
        "id": "JQKk302GYMgA"
      },
      "source": [
        "<h1>Merging Data</h1><p>Both protest and radicalization measure resistance to social or governmental structures. Therefore, it makes sense to joing aspects of the data into a very simple table to compare radicalization and protest activity. We will not merge this data on the 'State' attribute, because both datasets have such a large number of variables that the table produced would be unweildy.</p>"
      ]
    },
    {
      "cell_type": "code",
      "execution_count": null,
      "metadata": {
        "id": "-GwOd-R6hUda"
      },
      "outputs": [],
      "source": [
        "resistance_data = pd.DataFrame()\n",
        "resistance_data['Radicalized_num'] = pirus_states_since_2000\n",
        "resistance_data['Protest_num'] = protests_by_state\n",
        "resistance_data.head()"
      ]
    },
    {
      "cell_type": "markdown",
      "metadata": {
        "id": "bMiyRBsUlIlX"
      },
      "source": [
        "<p>We can look at the relationship now between the number of protests in a state and the number of radicalized individuals in a state. Unsurprisingly, there is a visually obvious correlation. "
      ]
    },
    {
      "cell_type": "code",
      "execution_count": null,
      "metadata": {
        "id": "iiyvn4wYlIFn"
      },
      "outputs": [],
      "source": [
        "resistance_data.rename({'Loc_Habitation_State1':'State'},inplace=True)\n",
        "resistance_data.plot(kind='scatter',\n",
        "                     y='Radicalized_num',\n",
        "                     x='Protest_num',\n",
        "                     ylabel = \"Number of People Radicalized\",\n",
        "                     xlabel = \"Number of Protests\",\n",
        "                     figsize=(10,8),\n",
        "                     alpha=0.4,\n",
        "                     color='purple',\n",
        "                     s=30)"
      ]
    },
    {
      "cell_type": "markdown",
      "metadata": {
        "id": "SH5k3wHGlc9W"
      },
      "source": [
        "<p>We can compute the correlation between these two variables as follows:</p>"
      ]
    },
    {
      "cell_type": "code",
      "execution_count": null,
      "metadata": {
        "id": "iZX-kKEalb3T"
      },
      "outputs": [],
      "source": [
        "resistance_data['Protest_num'].corr(resistance_data['Radicalized_num'])"
      ]
    },
    {
      "cell_type": "markdown",
      "metadata": {
        "id": "wYpoPUYEpNam"
      },
      "source": [
        "<p>This is a significant, but unsurprising \n",
        "correlation. We can represent the population size of the state through the dot size. </p>"
      ]
    },
    {
      "cell_type": "code",
      "execution_count": null,
      "metadata": {},
      "outputs": [],
      "source": [
        "resistance_data_merged = resistance_data.reset_index().rename(columns={'Loc_Habitation_State1':'State'}).merge(total_population.rename(columns={'Geographic Area':'State',\"2021\":\"Population\"})[[\"State\",\"Population\"]],on='State', how=\"right\").set_index(\"State\")\n",
        "resistance_data_merged.head()\n",
        "#len(resistance_data_merged)"
      ]
    },
    {
      "cell_type": "code",
      "execution_count": null,
      "metadata": {},
      "outputs": [],
      "source": [
        "import math\n",
        "resistance_data_merged.plot(kind='scatter',\n",
        "                     y='Radicalized_num',\n",
        "                     x='Protest_num',\n",
        "                     ylabel = \"Number of People Radicalized\",\n",
        "                     xlabel = \"Number of Protests\",\n",
        "                     title=\"Number of People Radicalized vs Number of Protests\",\n",
        "                     figsize=(10,8),\n",
        "                     alpha=0.4,\n",
        "                     color='purple',\n",
        "                     #s = resistance_data_merged['Population']\n",
        "                     s=resistance_data_merged[\"Population\"].apply({lambda x: x/1e4}))\n",
        "plt.xscale(\"log\")\n",
        "plt.yscale(\"log\")\n",
        "x_vals = list(resistance_data_merged.reset_index()[\"Protest_num\"])\n",
        "y_vals = list(resistance_data_merged.reset_index()[\"Radicalized_num\"])\n",
        "states = list(resistance_data_merged.reset_index()[\"State\"])\n",
        "for i in range(len(x_vals)):\n",
        "    plt.text(x_vals[i], y_vals[i], states[i], fontsize=8)\n"
      ]
    },
    {
      "cell_type": "code",
      "execution_count": null,
      "metadata": {},
      "outputs": [],
      "source": [
        "resistance_data_normalized = resistance_data_merged.copy()\n",
        "resistance_data_normalized[\"Protest_num\"] = resistance_data_normalized[\"Protest_num\"]/resistance_data_normalized[\"Population\"]\n",
        "resistance_data_normalized[\"Radicalized_num\"] = resistance_data_normalized[\"Radicalized_num\"]/resistance_data_normalized[\"Population\"]\n",
        "resistance_data_normalized.plot(kind='scatter',\n",
        "                     y='Radicalized_num',\n",
        "                     x='Protest_num',\n",
        "                     ylabel = \"Number of People Radicalized (Normalized by Population)\",\n",
        "                     xlabel = \"Number of Protests (Normalized by Population)\",\n",
        "                     title=\"Number of People Radicalized vs Number of Protests (Normalized by Population)\",\n",
        "                     figsize=(10,8),\n",
        "                     alpha=0.4,\n",
        "                     color='purple',\n",
        "                     #s = resistance_data_merged['Population']\n",
        "                     s=resistance_data_normalized[\"Population\"].apply({lambda x: x/1e4}))\n",
        "plt.xscale(\"log\")\n",
        "plt.yscale(\"log\")\n",
        "x_vals = list(resistance_data_normalized.reset_index()[\"Protest_num\"])\n",
        "y_vals = list(resistance_data_normalized.reset_index()[\"Radicalized_num\"])\n",
        "\n",
        "for i in range(len(x_vals)):\n",
        "    plt.text(x=x_vals[i], y=y_vals[i], s=states[i], fontsize=7)"
      ]
    },
    {
      "cell_type": "markdown",
      "metadata": {},
      "source": [
        "<h1>Models</h1>"
      ]
    },
    {
      "cell_type": "markdown",
      "metadata": {},
      "source": [
        "<h3>Model 1</h3><p>The Protest data Attendance column is missing values for many events. We will build a model to predict what the attendance would have been based on the issues the protest addressed, the state protest took place in, and the proportion of the radicalized individuals from that state.<p>First, let's look at what issues people protest about most often."
      ]
    },
    {
      "cell_type": "code",
      "execution_count": null,
      "metadata": {},
      "outputs": [],
      "source": []
    },
    {
      "cell_type": "code",
      "execution_count": null,
      "metadata": {},
      "outputs": [],
      "source": [
        "count = []\n",
        "final = []\n",
        "for tag in protests_temp['Tags']:\n",
        "    temp = tag.split(';')\n",
        "    count.append(len(temp))\n",
        "    final += temp\n",
        "final = pd.unique(final)\n",
        "print(pd.unique(count))"
      ]
    },
    {
      "cell_type": "code",
      "execution_count": null,
      "metadata": {},
      "outputs": [],
      "source": [
        "protests_temp.head()"
      ]
    },
    {
      "cell_type": "code",
      "execution_count": null,
      "metadata": {},
      "outputs": [],
      "source": [
        "protests_iss =protests_temp[['Date','Location','Event (legacy; see tags)', 'Attendees','State','Tags']]\n",
        "protests_iss_known = protests_iss"
      ]
    },
    {
      "cell_type": "code",
      "execution_count": null,
      "metadata": {},
      "outputs": [],
      "source": [
        "l_tags = []\n",
        "for i in range(1,9):\n",
        "    m ='Tag' + str(i)\n",
        "    l_tags.append(m)"
      ]
    },
    {
      "cell_type": "code",
      "execution_count": null,
      "metadata": {},
      "outputs": [],
      "source": [
        "protests_iss_known.rename(columns={'Event (legacy; see tags)':'Event'},inplace=True)"
      ]
    },
    {
      "cell_type": "code",
      "execution_count": null,
      "metadata": {},
      "outputs": [],
      "source": [
        "Big_List = [\"Racial Injustice\", \"Gun Rights\", \"Other\", \"Environment\", \"Education\",\"Immigration\",\"Civil Rights\",\"Executive\", \"International Relations\",\"Legislative\"]\n",
        "def word_returner(word):\n",
        "    for i in Big_List:\n",
        "        if \"Guns\" in word:\n",
        "            return \"Gun Rights\"\n",
        "        if i in word:\n",
        "            return i\n",
        "    return word\n",
        "protests_iss_known[\"Event\"] = protests_iss_known[\"Event\"].apply({lambda x: word_returner(x)}) # \"Racial Injustice\" if \"Racial Injustice\" in x else \"Gun Rights\" if \"Guns\" in x else \"Other\" if \"Other\" in x else \"Environment\" if \"Environment\" in x else \"Education\" if \"Education\" in x else \"Immigration\" if \"Immigration\" in x else x\n",
        "Common_Events = protests_iss_known[\"Event\"].value_counts().head(12).keys()\n",
        "print(len(protests_iss_known[\"Event\"].value_counts()))\n",
        "protests_iss_known[\"Event\"] = protests_iss_known[\"Event\"].apply({lambda x: x if x in Common_Events else \"Other\"})"
      ]
    },
    {
      "cell_type": "code",
      "execution_count": null,
      "metadata": {},
      "outputs": [],
      "source": [
        "explode = []\n",
        "num = 0.000\n",
        "for val in protests_iss_known['Event'].value_counts():\n",
        "    explode.append(num)\n",
        "    num += 0.002\n",
        "protests_iss_known['Event'].value_counts().plot(kind='pie',figsize=(10,10),fontsize=10,explode = explode)"
      ]
    },
    {
      "cell_type": "code",
      "execution_count": null,
      "metadata": {},
      "outputs": [],
      "source": [
        "len(protests_iss_known['Event'].value_counts())"
      ]
    },
    {
      "cell_type": "markdown",
      "metadata": {},
      "source": [
        "<p>People protest many different issues. Let's look at the top 50.</p>"
      ]
    },
    {
      "cell_type": "code",
      "execution_count": null,
      "metadata": {},
      "outputs": [],
      "source": [
        "explode = []\n",
        "num = 0.00\n",
        "for val in protests_iss_known['Event'].value_counts()[:50]:\n",
        "    explode.append(num)\n",
        "    num += 0.01\n",
        "protests_iss_known['Event'].value_counts()[:50].plot(kind='pie',figsize=(10,10),fontsize=9,explode=explode)"
      ]
    },
    {
      "cell_type": "markdown",
      "metadata": {},
      "source": [
        "<p>Just from looking at this chart, it looks like racial justice, guns, and immigration are major issues that people protest about. It also looks like our data collector did not code protests very consistently. This will require more cleaning before we can build a model.</p><p>Let's also look at the relationship between the time of year that the protests occur and the number of attendees. We will have to drop rows that do not have attendees listed, and convert the data column to a datetime object. "
      ]
    },
    {
      "cell_type": "code",
      "execution_count": null,
      "metadata": {},
      "outputs": [],
      "source": [
        "protests_iss_known.dtypes\n",
        "protests_iss_known = protests_iss.dropna(subset='Attendees')\n",
        "protests_iss_known.Date = pd.to_datetime(protests_iss_known.Date)\n",
        "protests_iss_known.dtypes"
      ]
    },
    {
      "cell_type": "markdown",
      "metadata": {},
      "source": [
        "Actually, lets fix all these dtypes."
      ]
    },
    {
      "cell_type": "code",
      "execution_count": null,
      "metadata": {},
      "outputs": [],
      "source": [
        "'''\n",
        "protests_iss_known['State'] = str(protests_iss_known['State'])\n",
        "protests_iss_known.Location = str(protests_iss_known.Location)\n",
        "protests_iss_known['Event (legacy; see tags)'] = str(protests_iss_known['Event (legacy; see tags)'])\n",
        "'''"
      ]
    },
    {
      "cell_type": "code",
      "execution_count": null,
      "metadata": {},
      "outputs": [],
      "source": [
        "'''x  = 0\n",
        "for row in protests_iss_known.iterrows():\n",
        "    m = protests_iss_known.iloc[x].Tags\n",
        "    protests_iss_known.loc[x,'Tags'] = str(m.split(';'))\n",
        "    x+=1'''"
      ]
    },
    {
      "cell_type": "code",
      "execution_count": null,
      "metadata": {},
      "outputs": [],
      "source": [
        "protests_iss_known"
      ]
    },
    {
      "cell_type": "markdown",
      "metadata": {},
      "source": [
        "<p>More cleaning is necessary for issue categorization."
      ]
    },
    {
      "cell_type": "markdown",
      "metadata": {},
      "source": [
        "<h3>Model 2</h3><p>Radicalization and Protests Over Time: We will look at the correlation between radicalized individuals and protests over time. Perhaps there are relationships between radicalization on certain issues and more protests on certain issues. For example, we know that internet searches for \"Straight pride\" peak each year during June, which is Pride Month for LGBTQ+ folks. Perhaps more discussion around an issue in the form of protests causes more radicalization on the opposing side. We will use time data and issue categories for both radicalized individuals from the PIRUS data and protest events.</p><p>As an exploratory exercise, let's plot both the PIRUS and the protests data over time to see the spikes in activity.</p>"
      ]
    },
    {
      "cell_type": "code",
      "execution_count": null,
      "metadata": {},
      "outputs": [],
      "source": [
        "\n",
        "protests_iss_known.plot(kind='scatter',x='Date',y='Attendees',figsize=(20,10),s=8,c='red',alpha=0.2)"
      ]
    },
    {
      "cell_type": "markdown",
      "metadata": {},
      "source": [
        "<p>we see clear spikes in protest participation and protest size.</p>"
      ]
    },
    {
      "cell_type": "code",
      "execution_count": null,
      "metadata": {},
      "outputs": [],
      "source": [
        "pirus_temp.Date_Exposure = pd.to_datetime(pirus_temp.Date_Exposure)\n"
      ]
    },
    {
      "cell_type": "code",
      "execution_count": null,
      "metadata": {},
      "outputs": [],
      "source": [
        "pirus_temp"
      ]
    },
    {
      "cell_type": "code",
      "execution_count": null,
      "metadata": {},
      "outputs": [],
      "source": [
        "pirus_temp.set_index('Date_Exposure')\n",
        "rad_counts = pirus_temp.sort_index().value_counts('Date_Exposure',sort=False)\n",
        "rad_counts.plot(x='Date_Exposure',figsize=(20,10))\n",
        "\n",
        "#rad_counts.plot(x='Date_Exposure', y = '0')"
      ]
    },
    {
      "cell_type": "markdown",
      "metadata": {},
      "source": [
        "<p>Now we can plot protests and radicalization on the same axis, though our protest data only starts at 2017. We will have to filter the radicalization data.</p>"
      ]
    },
    {
      "cell_type": "code",
      "execution_count": null,
      "metadata": {},
      "outputs": [],
      "source": [
        "pirus_temp.Year = pd.to_numeric(pirus_temp.Year)\n",
        "since_17 = pirus_temp.loc[pirus_temp.Year>=17]\n",
        "since_17.set_index('Date_Exposure')\n"
      ]
    },
    {
      "cell_type": "code",
      "execution_count": null,
      "metadata": {},
      "outputs": [],
      "source": [
        "rad_counts2 = since_17.sort_index().value_counts('Date_Exposure',sort=False)\n",
        "ax = rad_counts2.plot(x='Date_Exposure',figsize=(20,10))"
      ]
    },
    {
      "cell_type": "code",
      "execution_count": null,
      "metadata": {},
      "outputs": [],
      "source": [
        "protests_iss_known.plot(kind='scatter',x='Date',y='Attendees',figsize=(20,10),s=8,c='red',alpha=0.2,ax=ax)"
      ]
    },
    {
      "cell_type": "markdown",
      "metadata": {},
      "source": [
        "<p>This chart shows the relationship between protest attendance/number and the number of individuals radicalized. We will have to code protests by issue and radicalized individuals by issue to get a better idea of the relationships between radicalization and protests.</p>"
      ]
    },
    {
      "cell_type": "markdown",
      "metadata": {
        "id": "_vURkKfoNDjR"
      },
      "source": [
        "<h1>Project Strategy</h1><p>Beyond looking at the aggregate state data, the team will look at relationships between political participation, resistance, and violence over time by year for each state. Additionally, if time permits, the group will look at factors such as party affiliation and interest group affiliation.</p>"
      ]
    }
  ],
  "metadata": {
    "colab": {
      "provenance": []
    },
    "kernelspec": {
      "display_name": "Python 3.9.12 64-bit",
      "language": "python",
      "name": "python3"
    },
    "language_info": {
      "codemirror_mode": {
        "name": "ipython",
        "version": 3
      },
      "file_extension": ".py",
      "mimetype": "text/x-python",
      "name": "python",
      "nbconvert_exporter": "python",
      "pygments_lexer": "ipython3",
      "version": "3.9.12"
    },
    "vscode": {
      "interpreter": {
        "hash": "b0fa6594d8f4cbf19f97940f81e996739fb7646882a419484c72d19e05852a7e"
      }
    }
  },
  "nbformat": 4,
  "nbformat_minor": 0
}
